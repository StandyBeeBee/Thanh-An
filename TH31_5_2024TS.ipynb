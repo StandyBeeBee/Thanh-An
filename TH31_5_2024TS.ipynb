{
 "cells": [
  {
   "cell_type": "code",
   "execution_count": 79,
   "id": "8ddd9489-b57b-468d-8c90-ddef86ef158f",
   "metadata": {},
   "outputs": [
    {
     "name": "stdout",
     "output_type": "stream",
     "text": [
      "[[ 964.4  964.4  964.4]\n",
      " [1019.7 1019.7 1019.7]\n",
      " [ 988.4  988.4  988.4]\n",
      " ...\n",
      " [1061.5 1061.5 1061.5]\n",
      " [1022.6 1022.6 1022.6]\n",
      " [1022.6 1022.6 1022.6]]\n",
      "Predicted hidden states:\n",
      "[0 0 0 0 2 2 2 2 2 0 0 2 2 2 2 2 0 2 2 2 2 2 0 0 0 0 0 0 0 0 0 0 0 0 0 0 0\n",
      " 0 0 0 0 0 0 0 0 0 0 0 0 0 0 0 0 0 0 0 0 0 0 0 0 0 0 0 0 0 0 0 0 2 0 0 0 0\n",
      " 2 2 2 2 2 0 0 0 0 2 2 2 0 0 2 0 0 0 0 0 0 2 2 2 0 0 0 0 2 2 2 2 2 0 2 2 2\n",
      " 2 2 2 0 2 2 2 2 0 0 0 2 2 2 0 0 0 0 0 2 2 2 2 2 0 2 2 2 2 2 2 2 2 2 2 2 2\n",
      " 0 0 2 0 0 0 0 0 0 0 2 2 2 2 0 0 0 0 0 0 2 2 0 0 0 0 2 2 2 0 0 0 0 0 0 0 0\n",
      " 0 2 0 0 0 0 0 0 0 0 2 2 2 0 2 1 1 1 1 1 1 1 1 1 2 0 0 0 0 2 2 2 2 2 0 2 1\n",
      " 1 1 1 1 1 1 1 1 1 1 1 2 2 1 1 2 2 0 0 0 0 0 0 0 2 0 2 2 2 2 1 2 0 2 2 0 0\n",
      " 0 0 0 0 0 0 0 0 0 0 0 0 0 0 0 0 0 0 0 0 0 2 0 0 0 2 2 2 0 0 0 0 2 2 2 2 0\n",
      " 0 0 0 0 0 0 0 0 0 2 0 0 0 0 0 0 0 2 2 2 0 0 2 2 2 2 2 2 0 0 2 0 0 0 0 0 0\n",
      " 0 0 0 0 0 0 0 0 0 2 2 0 0 0 2 2 2 2 0 0 2 2 0 0 0 0 0 0 0 2 0 0]\n"
     ]
    }
   ],
   "source": [
    "import pandas as pd\n",
    "from hmmlearn import hmm\n",
    "\n",
    "# Đọc dữ liệu từ file CSV\n",
    "df=pd.read_csv(\"GiaSMP_TS31_5_2024.csv\",index_col = 'Ngay')\n",
    "\n",
    "# Chuyển đổi dữ liệu thành mảng NumPy\n",
    "data = df.values\n",
    "print(data)\n",
    "\n",
    "# Khởi tạo và huấn luyện mô hình HMM\n",
    "model = hmm.GaussianHMM(n_components=3)  # Số lượng trạng thái ẩn là 3, bạn có thể thay đổi nó tùy ý\n",
    "model.fit(data)\n",
    "\n",
    "# Dự đoán trạng thái ẩn của dữ liệu\n",
    "hidden_states = model.predict(data)\n",
    "\n",
    "# In ra kết quả\n",
    "print(\"Predicted hidden states:\")\n",
    "print(hidden_states)\n",
    "\n"
   ]
  },
  {
   "cell_type": "code",
   "execution_count": null,
   "id": "cf60c865-678a-4e53-82de-ef9a9ee59975",
   "metadata": {},
   "outputs": [],
   "source": []
  }
 ],
 "metadata": {
  "kernelspec": {
   "display_name": "Python 3 (ipykernel)",
   "language": "python",
   "name": "python3"
  },
  "language_info": {
   "codemirror_mode": {
    "name": "ipython",
    "version": 3
   },
   "file_extension": ".py",
   "mimetype": "text/x-python",
   "name": "python",
   "nbconvert_exporter": "python",
   "pygments_lexer": "ipython3",
   "version": "3.12.0"
  }
 },
 "nbformat": 4,
 "nbformat_minor": 5
}
